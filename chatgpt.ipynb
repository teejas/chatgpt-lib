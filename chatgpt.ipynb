{
 "cells": [
  {
   "attachments": {},
   "cell_type": "markdown",
   "metadata": {},
   "source": [
    "# Using ChatGPT\n",
    "\n",
    "Going to try out some code generation workflows using ChatGPT. I especially want to look into this automated test generation and try to apply it either to AutoGPT or my Rust antsim (or both).\n",
    "\n",
    "https://martinfowler.com/articles/2023-chatgpt-xu-hao.html"
   ]
  },
  {
   "cell_type": "code",
   "execution_count": 7,
   "metadata": {},
   "outputs": [],
   "source": [
    "import os\n",
    "import openai \n",
    "from dotenv import load_dotenv\n",
    "from lib.data import write_msgs_to_file, read_msgs_from_file\n",
    "from lib.chatgpt import ask_chatgpt, create_new_system_msg\n",
    "\n",
    "load_dotenv()\n",
    "\n",
    "openai.api_key = os.getenv(\"OPENAI_API_KEY\")"
   ]
  },
  {
   "cell_type": "code",
   "execution_count": 2,
   "metadata": {},
   "outputs": [
    {
     "name": "stdout",
     "output_type": "stream",
     "text": [
      "assistant: Hello! How can I assist you with your research today?\n"
     ]
    }
   ],
   "source": [
    "messages = [\n",
    "    {\"role\": \"system\", \"content\": \"You are a research assistant.\"}\n",
    "]\n",
    "\n",
    "messages = ask_chatgpt(messages, \"Hello, AntGPT!\")"
   ]
  },
  {
   "attachments": {},
   "cell_type": "markdown",
   "metadata": {},
   "source": [
    "\"system\" messages are used to influence the behavior of the model, i.e. in the above it's primed to be a \"helpful assistant\". Note that GPT-3.5 doesn't always pay attention to system messages.\n",
    "\n",
    "\"user\" messages are inputs by me (the user).\n",
    "\n",
    "\"assistant\" messages are responses from the model.\n",
    "\n",
    "I can store responses as \"assistant\" messages to propagate earlier answers, and create a sort of short-term memory."
   ]
  },
  {
   "cell_type": "code",
   "execution_count": 3,
   "metadata": {},
   "outputs": [
    {
     "name": "stdout",
     "output_type": "stream",
     "text": [
      "Social insects, such as ants, bees, and termites, exhibit a wide range of collective behaviors that are essential to their survival and success. These behaviors include foraging, nest building, defense, and breeding.\n",
      "\n",
      "One of the most striking examples of collective behavior in social insects is swarm intelligence, which is the ability of a group to make decisions that are often better than those made by any single individual. Ants, for example, use pheromone trails to communicate with each other and find the shortest route to food or a new nest site. Bees use a waggle dance to indicate the direction and distance to a food source, and also use quorum sensing to make decisions about when to swarm or move to a new location.\n",
      "\n",
      "Social insects are also known for their division of labor, which creates an efficient and organized society. Ants have different castes, such as workers, soldiers, and queens, each with their own specialized tasks that contribute to the success of the colony. Similarly, honeybees have worker bees, drones, and a queen, each with their own unique role in the hive.\n",
      "\n",
      "Collective behavior in social insects is a fascinating and complex field of study that has implications for understanding human behavior and developing new technologies inspired by nature.\n"
     ]
    }
   ],
   "source": [
    "messages = ask_chatgpt(messages, \"What do you know about the collective behavior of social insects?\")\n"
   ]
  },
  {
   "cell_type": "code",
   "execution_count": 4,
   "metadata": {},
   "outputs": [
    {
     "name": "stdout",
     "output_type": "stream",
     "text": [
      "Certainly! Here are three research papers related to ant colony behavior:\n",
      "\n",
      "1. Paper: \"Trail networks formed by cliff-nesting ant colonies\" by A. L. Detrain, O. Bettinelli, C. Théraulaz, and J. L. Deneubourg, published in Proceedings of the National Academy of Sciences (PNAS) in 2019.\n",
      "URL: https://www.pnas.org/content/116/1/104\n",
      "\n",
      "2. Paper: \"Searching for simplicity, generality, and connectivity in genetic algorithms applied to ant foraging\" by C. Silva, L. Nunes, J. Machado, and J. Louçã, published in Physica A: Statistical Mechanics and its Applications in 2018.\n",
      "URL: https://www.sciencedirect.com/science/article/pii/S0378437118300754\n",
      "\n",
      "3. Paper: \"The architecture of a collective behaviour: a modelling study of tuna fish schools\" by A. Conradt, T. J. Roper, and D. W. Franks, published in Journal of Theoretical Biology in 2003.\n",
      "URL: https://www.sciencedirect.com/science/article/pii/S0022519302005072\n"
     ]
    }
   ],
   "source": [
    "messages = create_new_system_msg(messages, \"Your main focus of research is the collective behavior of social insects\")\n",
    "messages, response = ask_chatgpt(messages, \"Give me the titles, authors, and URLs of three research papers related to ant colony behavior\")\n",
    "print(response.content)"
   ]
  },
  {
   "attachments": {},
   "cell_type": "markdown",
   "metadata": {},
   "source": [
    "### Backups/Storage/Memory\n",
    "\n",
    "I can back messages up to a file or db for longer term storage as well. File first, if it gets out of control or a pain to parse then we can move to a db (prob postgres+nocodb)."
   ]
  },
  {
   "cell_type": "code",
   "execution_count": 5,
   "metadata": {},
   "outputs": [],
   "source": [
    "write_msgs_to_file(messages, \"msgs.txt\")"
   ]
  },
  {
   "cell_type": "code",
   "execution_count": 8,
   "metadata": {},
   "outputs": [
    {
     "name": "stdout",
     "output_type": "stream",
     "text": [
      "[{'role': 'system', 'content': 'You are a research assistant.'}, {'role': 'user', 'content': 'Hello, AntGPT!'}, {'role': 'assistant', 'content': 'Hello! How can I assist you with your research today?'}, {'role': 'user', 'content': 'What do you know about the collective behavior of social insects?'}, {'role': 'system', 'content': 'Your main focus of research is the collective behavior of social insects'}, {'role': 'user', 'content': 'Give me the titles, authors, and URLs of three research papers related to ant colony behavior'}, {'role': 'user', 'content': 'Give me the titles, authors, and URLs of three research papers related to ant colony behavior'}, {'role': 'user', 'content': 'Now summarize them for me using three sentences for each paper.'}, {'role': 'user', 'content': 'Give me the titles, authors, and URLs of three research papers related to the collective behavior of ants.'}, {'role': 'assistant', 'content': \"Sure, here are three research papers related to the collective behavior of ants:\\n\\n1. Title: Emergence of Trail-following in Ants: A Particle-based Model\\n   Author(s): J. Barranco, J. O. Indekeu and L. Giomi\\n   URL: https://arxiv.org/abs/2011.06077\\n   \\n   Summary: In this paper, the authors propose a computer model of trail following behavior in ants that describes individual ant motion using particle-based simulations. They show that their model is capable of reproducing collective behaviors observed in real ant colonies, such as following the shortest path to food, and suggest that their model may provide insight into the mechanisms underlying trail following in ants.\\n\\n2. Title: Ant colony optimisation for hyperparameter selection in deep neural networks\\n   Author(s): S. Das, S. Roy and U. Maulik\\n   URL: https://doi.org/10.1049/iet-cdt.2017.0213\\n   \\n   Summary: This paper applies ant colony optimization (ACO), a swarm intelligence algorithm inspired by ant foraging behavior, to the task of hyperparameter optimization in deep neural networks. The authors show that their ACO-based algorithm can produce more accurate models than other commonly used optimization algorithms, and suggest that their approach may be useful for improving the performance of other types of machine learning models.\\n\\n3. Title: Do Ants Need to Estimate the Geometrical Properties of Trail Bifurcations to Find an Efficient Route? A Swarm Robotics Testbed Study\\n   Author(s): C. Pinciroli, R. O'Grady, M. Brambilla, R. Collier and G. Pini\\n   URL: https://doi.org/10.1109/IROS.2011.6094791\\n   \\n   Summary: This paper presents a swarm robotics study in which a group of robots must collectively navigate a maze-like environment to reach a food source. The robots use ant-inspired trail-following behaviors, and the authors investigate whether the robots need to accurately estimate the geometrical properties of trail bifurcations (i.e. where the trail splits into two branches) in order to find an efficient route. The authors find that the robots are able to effectively navigate the environment even without precise estimates of bifurcation geometry, suggesting that ant colonies may use simpler strategies for trail following than previously thought.\"}, {'role': 'user', 'content': 'Now summarize them for me using three sentences for each paper.'}, {'role': 'assistant', 'content': 'Certainly! Here are the summaries of the three research papers on collective behavior of ants:\\n\\n1. \"Emergence of Trail-following in Ants: A Particle-based Model\" proposes a computer model of trail following behavior in ants, employing particle-based simulations to replicate the collective behavior of ant colonies. The findings reveal that the proposed model is effective in reproducing collective behaviors in actual ant colonies, and can offer a deeper insight into the trail-following mechanisms in ants.\\n\\n2. \"Ant Colony Optimisation for Hyperparameter Selection in Deep Neural Networks\" applies a swarm intelligence algorithm inspired by ant foraging behavior, called ant colony optimization (ACO), to deep neural network hyperparameter optimization. The study shows how ACO can produce more accurate models than other commonly used optimization algorithms, and may have significant value in enhancing the performance of other types of machine learning models.\\n\\n3. \"Do Ants Need to Estimate the Geometrical Properties of Trail Bifurcations to Find an Efficient Route? A Swarm Robotics Testbed Study\" presents a swarm robotics experiment where robots follow ant-inspired trail behavior in a maze-like environment to reach a food source. The study aims to determine whether robots must accurately estimate trail bifurcation geometry to find the best path. The findings reveal that the robots are able to navigate the environment without precise estimates of bifurcation geometry, implying that ant colonies may utilize simpler trail-following strategies than previously assumed.'}]\n"
     ]
    }
   ],
   "source": [
    "messages = read_msgs_from_file(\"msgs.txt\")\n",
    "print(messages)"
   ]
  },
  {
   "attachments": {},
   "cell_type": "markdown",
   "metadata": {},
   "source": [
    "## Creating an Interface\n",
    "\n",
    "I'm interested in creating a chat interface with ChatGPT in IPython. I have some experience doing this using like iwidgets or whatever that extension is called. I'm not going to let it consume my focus atm but something to think about"
   ]
  },
  {
   "cell_type": "code",
   "execution_count": 3,
   "metadata": {},
   "outputs": [],
   "source": [
    "messages = ask_chatgpt(messages, \"Give me the titles, authors, and URLs of three research papers related to the collective behavior of ants.\")\n",
    "messages = ask_chatgpt(messages, \"Now summarize them for me using three sentences for each paper.\")"
   ]
  },
  {
   "cell_type": "code",
   "execution_count": 4,
   "metadata": {},
   "outputs": [
    {
     "name": "stdout",
     "output_type": "stream",
     "text": [
      "Here's the link to the paper: \n",
      "\n",
      "https://arxiv.org/abs/2011.06077\n"
     ]
    }
   ],
   "source": [
    "messages = ask_chatgpt(messages, \"Give me the link to the first paper you summarized.\")"
   ]
  },
  {
   "cell_type": "code",
   "execution_count": 9,
   "metadata": {},
   "outputs": [
    {
     "name": "stdout",
     "output_type": "stream",
     "text": [
      "Certainly! Here is the link to the article \"Emergence of Trail-following in Ants: A Particle-based Model\":\n",
      "\n",
      "https://arxiv.org/abs/2011.06077\n"
     ]
    }
   ],
   "source": [
    "messages = ask_chatgpt(messages, \"Give me the link to the article about particle-based modeling\")"
   ]
  },
  {
   "cell_type": "code",
   "execution_count": null,
   "metadata": {},
   "outputs": [],
   "source": []
  }
 ],
 "metadata": {
  "kernelspec": {
   "display_name": "venv_chatgpt",
   "language": "python",
   "name": "python3"
  },
  "language_info": {
   "codemirror_mode": {
    "name": "ipython",
    "version": 3
   },
   "file_extension": ".py",
   "mimetype": "text/x-python",
   "name": "python",
   "nbconvert_exporter": "python",
   "pygments_lexer": "ipython3",
   "version": "3.11.2"
  },
  "orig_nbformat": 4
 },
 "nbformat": 4,
 "nbformat_minor": 2
}
